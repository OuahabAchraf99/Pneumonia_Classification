{
  "nbformat": 4,
  "nbformat_minor": 0,
  "metadata": {
    "colab": {
      "name": "Pneumonia_Classification.ipynb",
      "provenance": [],
      "collapsed_sections": [],
      "authorship_tag": "ABX9TyNE3mv9weQTyaTA/vvzVMgH",
      "include_colab_link": true
    },
    "kernelspec": {
      "name": "python3",
      "display_name": "Python 3"
    },
    "language_info": {
      "name": "python"
    }
  },
  "cells": [
    {
      "cell_type": "markdown",
      "metadata": {
        "id": "view-in-github",
        "colab_type": "text"
      },
      "source": [
        "<a href=\"https://colab.research.google.com/github/OuahabAchraf99/Pneumonia_Classification/blob/main/Pneumonia_Classification.ipynb\" target=\"_parent\"><img src=\"https://colab.research.google.com/assets/colab-badge.svg\" alt=\"Open In Colab\"/></a>"
      ]
    },
    {
      "cell_type": "markdown",
      "metadata": {
        "id": "VTM6M_TvxChO"
      },
      "source": [
        "# 1. Mounting Drive and Downloading DataSet from Kaggle"
      ]
    },
    {
      "cell_type": "code",
      "metadata": {
        "colab": {
          "base_uri": "https://localhost:8080/"
        },
        "id": "I28eReQafsPH",
        "outputId": "a581a0af-b8d5-4e13-8ef9-14e39f3d7a4b"
      },
      "source": [
        "from google.colab import drive\n",
        "drive.mount('/content/drive')"
      ],
      "execution_count": 2,
      "outputs": [
        {
          "output_type": "stream",
          "text": [
            "Drive already mounted at /content/drive; to attempt to forcibly remount, call drive.mount(\"/content/drive\", force_remount=True).\n"
          ],
          "name": "stdout"
        }
      ]
    },
    {
      "cell_type": "code",
      "metadata": {
        "colab": {
          "base_uri": "https://localhost:8080/"
        },
        "id": "ZSMwpq-tgRbv",
        "outputId": "391ee624-67d0-4264-990e-a1cdc2c14585"
      },
      "source": [
        "%mkdir -p /content/drive/My\\ Drive/Pneumonia_Xrays\n",
        "%cd /content/drive/My Drive/Pneumonia_Xrays"
      ],
      "execution_count": 2,
      "outputs": [
        {
          "output_type": "stream",
          "text": [
            "/content/drive/My Drive/Pneumonia_Xrays\n"
          ],
          "name": "stdout"
        }
      ]
    },
    {
      "cell_type": "code",
      "metadata": {
        "colab": {
          "base_uri": "https://localhost:8080/",
          "height": 35
        },
        "id": "IpfTfb5chYpg",
        "outputId": "6ad29e5c-0663-4d75-da00-22cea855cd4e"
      },
      "source": [
        "import os\n",
        "os.environ['KAGGLE_CONFIG_DIR'] = \"/content/drive/My Drive/Pneumonia_Xrays\"\n",
        "%pwd"
      ],
      "execution_count": 3,
      "outputs": [
        {
          "output_type": "execute_result",
          "data": {
            "application/vnd.google.colaboratory.intrinsic+json": {
              "type": "string"
            },
            "text/plain": [
              "'/content/drive/My Drive/Pneumonia_Xrays'"
            ]
          },
          "metadata": {
            "tags": []
          },
          "execution_count": 3
        }
      ]
    },
    {
      "cell_type": "code",
      "metadata": {
        "colab": {
          "base_uri": "https://localhost:8080/"
        },
        "id": "mTnOnkZKhnnb",
        "outputId": "b93ddad2-5c23-4ba5-c230-5eafcda1414f"
      },
      "source": [
        "!gdown --id '1w0ldWmLkbaypadIDiFexve3bW1IJuosc' --output pneumonia-kaggle.zip "
      ],
      "execution_count": 4,
      "outputs": [
        {
          "output_type": "stream",
          "text": [
            "Downloading...\n",
            "From: https://drive.google.com/uc?id=1w0ldWmLkbaypadIDiFexve3bW1IJuosc\n",
            "To: /content/drive/My Drive/Pneumonia_Xrays/pneumonia-kaggle.zip\n",
            "1.22GB [00:13, 90.8MB/s]\n"
          ],
          "name": "stdout"
        }
      ]
    },
    {
      "cell_type": "code",
      "metadata": {
        "id": "sHglNanbl60u"
      },
      "source": [
        "import zipfile\n",
        "with zipfile.ZipFile(\"/content/drive/My Drive/Pneumonia_Xrays/pneumonia-kaggle.zip\", 'r') as zip_ref:\n",
        "    zip_ref.extractall(\"/content/drive/My Drive/Pneumonia_Xrays\")\n",
        "    \n",
        "%mv pneumonia-kaggle/* ./\n",
        "%rm pneumonia-kaggle.zip\n",
        "%rmdir pneumonia-kaggle"
      ],
      "execution_count": 5,
      "outputs": []
    },
    {
      "cell_type": "code",
      "metadata": {
        "colab": {
          "base_uri": "https://localhost:8080/",
          "height": 35
        },
        "id": "9sMZHx4U12L6",
        "outputId": "643e083f-4d75-41d4-c4eb-8dc794cb108b"
      },
      "source": [
        "%pwd"
      ],
      "execution_count": 3,
      "outputs": [
        {
          "output_type": "execute_result",
          "data": {
            "application/vnd.google.colaboratory.intrinsic+json": {
              "type": "string"
            },
            "text/plain": [
              "'/content'"
            ]
          },
          "metadata": {
            "tags": []
          },
          "execution_count": 3
        }
      ]
    },
    {
      "cell_type": "markdown",
      "metadata": {
        "id": "sYUPXT3sxYw0"
      },
      "source": [
        "# 2. Loading and Exploring Data"
      ]
    },
    {
      "cell_type": "code",
      "metadata": {
        "id": "o1fzJr_3xlrZ"
      },
      "source": [
        "import os\n",
        "import pandas as pd\n",
        "import numpy as np\n",
        "import tensorflow as tf\n",
        "import matplotlib.pyplot as plt\n",
        "from sklearn.model_selection import train_test_split"
      ],
      "execution_count": 46,
      "outputs": []
    },
    {
      "cell_type": "code",
      "metadata": {
        "id": "O-SehNEE0mhk"
      },
      "source": [
        "main_path=\"/content/drive/My Drive/Pneumonia_Xrays/\"\n",
        "img_size=[180, 180]\n"
      ],
      "execution_count": 5,
      "outputs": []
    },
    {
      "cell_type": "code",
      "metadata": {
        "colab": {
          "base_uri": "https://localhost:8080/"
        },
        "id": "LYc3c9ww1A-1",
        "outputId": "db2437b3-2670-4d7d-d0ff-86404d09a3ab"
      },
      "source": [
        "Normal_Files=tf.io.gfile.glob(str(main_path+\"/train/NORMAL/*\"))\n",
        "Pneumo_Files=tf.io.gfile.glob(str(main_path+\"/train/PNEUMONIA/*\"))\n",
        "Nb_Normal,Nb_Pneumo=len(Normal_Files),len(Pneumo_Files)\n",
        "Nb_Total=Nb_Normal+Nb_Pneumo\n",
        "\n",
        "print(\"Nb_Normal=\",Nb_Normal,\"\\nNb_Pneumo= \",Nb_Pneumo)"
      ],
      "execution_count": 40,
      "outputs": [
        {
          "output_type": "stream",
          "text": [
            "Nb_Normal= 1341 \n",
            "Nb_Pneumo=  3875\n"
          ],
          "name": "stdout"
        }
      ]
    },
    {
      "cell_type": "code",
      "metadata": {
        "colab": {
          "base_uri": "https://localhost:8080/"
        },
        "id": "H1SWXlUxcI6y",
        "outputId": "ed378922-7e98-481d-bf2e-c99211a02742"
      },
      "source": [
        "# Calculate Weights for the Data Imbalance problem since the number of Positifs and Negatifs are not equal\n",
        "\n",
        "W_Positif= float(Nb_Normal/Nb_Total)\n",
        "W_Negatif=float(Nb_Pneumo/Nb_Total)\n",
        "W_Negatif,W_Positif"
      ],
      "execution_count": 32,
      "outputs": [
        {
          "output_type": "execute_result",
          "data": {
            "text/plain": [
              "(0.7429064417177914, 0.2570935582822086)"
            ]
          },
          "metadata": {
            "tags": []
          },
          "execution_count": 32
        }
      ]
    },
    {
      "cell_type": "code",
      "metadata": {
        "colab": {
          "base_uri": "https://localhost:8080/"
        },
        "id": "6E0xNOlHfdqc",
        "outputId": "97ec0577-4c39-4e8e-8a3d-982a4a4e4778"
      },
      "source": [
        "# Splitting the Data into Training and Testing \n",
        "Data=Normal_Files\n",
        "Data.extend(Pneumo_Files)\n",
        "Train_Files,Test_Files=train_test_split(Data,test_size=0.2)\n",
        "print(\"Training Nb of examples= \",len(Train_Files))\n",
        "print(\"Test Nb of examples= \",len(Test_Files))\n",
        "len(Data)"
      ],
      "execution_count": 43,
      "outputs": [
        {
          "output_type": "stream",
          "text": [
            "Training Nb of examples=  4172\n",
            "Test Nb of examples=  1044\n"
          ],
          "name": "stdout"
        },
        {
          "output_type": "execute_result",
          "data": {
            "text/plain": [
              "5216"
            ]
          },
          "metadata": {
            "tags": []
          },
          "execution_count": 43
        }
      ]
    },
    {
      "cell_type": "code",
      "metadata": {
        "id": "kJKg9Z7ukl2M"
      },
      "source": [
        "def getLabel(img_path):\n",
        "  label=img_path.split(\"/\")\n",
        "  if(label[-2]=='PNEUMONIA'):\n",
        "    return 1\n",
        "  return 0"
      ],
      "execution_count": 57,
      "outputs": []
    },
    {
      "cell_type": "code",
      "metadata": {
        "colab": {
          "base_uri": "https://localhost:8080/"
        },
        "id": "yIwnsCq0lleP",
        "outputId": "3434e1ee-08ef-4f3c-c7d5-9f7cf9abaeec"
      },
      "source": [
        ""
      ],
      "execution_count": 59,
      "outputs": [
        {
          "output_type": "execute_result",
          "data": {
            "text/plain": [
              "0"
            ]
          },
          "metadata": {
            "tags": []
          },
          "execution_count": 59
        }
      ]
    }
  ]
}