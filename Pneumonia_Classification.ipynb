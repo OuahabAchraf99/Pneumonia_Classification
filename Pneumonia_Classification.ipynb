{
  "nbformat": 4,
  "nbformat_minor": 0,
  "metadata": {
    "colab": {
      "name": "Pneumonia_Classification.ipynb",
      "provenance": [],
      "collapsed_sections": [],
      "authorship_tag": "ABX9TyOhWsTKyGNBvIg+qaVuUHty",
      "include_colab_link": true
    },
    "kernelspec": {
      "name": "python3",
      "display_name": "Python 3"
    },
    "language_info": {
      "name": "python"
    }
  },
  "cells": [
    {
      "cell_type": "markdown",
      "metadata": {
        "id": "view-in-github",
        "colab_type": "text"
      },
      "source": [
        "<a href=\"https://colab.research.google.com/github/OuahabAchraf99/Pneumonia_Classification/blob/main/Pneumonia_Classification.ipynb\" target=\"_parent\"><img src=\"https://colab.research.google.com/assets/colab-badge.svg\" alt=\"Open In Colab\"/></a>"
      ]
    },
    {
      "cell_type": "code",
      "metadata": {
        "colab": {
          "base_uri": "https://localhost:8080/"
        },
        "id": "I28eReQafsPH",
        "outputId": "45ad2895-88af-48b5-b749-a1749d1afcac"
      },
      "source": [
        "from google.colab import drive\n",
        "drive.mount('/content/drive')"
      ],
      "execution_count": 1,
      "outputs": [
        {
          "output_type": "stream",
          "text": [
            "Drive already mounted at /content/drive; to attempt to forcibly remount, call drive.mount(\"/content/drive\", force_remount=True).\n"
          ],
          "name": "stdout"
        }
      ]
    },
    {
      "cell_type": "code",
      "metadata": {
        "colab": {
          "base_uri": "https://localhost:8080/"
        },
        "id": "ZSMwpq-tgRbv",
        "outputId": "5e78aff9-3d18-45d6-a57a-cf25021ca8ce"
      },
      "source": [
        "%mkdir -p /content/drive/My\\ Drive/Pneumonia_Xrays\n",
        "%cd /content/drive/My Drive/Pneumonia_Xrays"
      ],
      "execution_count": 2,
      "outputs": [
        {
          "output_type": "stream",
          "text": [
            "/content/drive/My Drive/Pneumonia_Xrays\n"
          ],
          "name": "stdout"
        }
      ]
    },
    {
      "cell_type": "code",
      "metadata": {
        "colab": {
          "base_uri": "https://localhost:8080/",
          "height": 35
        },
        "id": "IpfTfb5chYpg",
        "outputId": "dcc3c8ab-e838-4c34-bc07-bc868b308cec"
      },
      "source": [
        "import os\n",
        "os.environ['KAGGLE_CONFIG_DIR'] = \"/content/drive/My Drive/Pneumonia_Xrays\"\n",
        "%pwd"
      ],
      "execution_count": 3,
      "outputs": [
        {
          "output_type": "execute_result",
          "data": {
            "application/vnd.google.colaboratory.intrinsic+json": {
              "type": "string"
            },
            "text/plain": [
              "'/content/drive/MyDrive/Pneumonia_Xrays'"
            ]
          },
          "metadata": {
            "tags": []
          },
          "execution_count": 3
        }
      ]
    },
    {
      "cell_type": "code",
      "metadata": {
        "colab": {
          "base_uri": "https://localhost:8080/"
        },
        "id": "mTnOnkZKhnnb",
        "outputId": "e42badad-5493-4b81-b907-6d0f6b204050"
      },
      "source": [
        "!gdown --id '1w0ldWmLkbaypadIDiFexve3bW1IJuosc' --output pneumonia-kaggle.zip "
      ],
      "execution_count": 5,
      "outputs": [
        {
          "output_type": "stream",
          "text": [
            "Downloading...\n",
            "From: https://drive.google.com/uc?id=1w0ldWmLkbaypadIDiFexve3bW1IJuosc\n",
            "To: /content/drive/MyDrive/Pneumonia_Xrays/pneumonia-kaggle.zip\n",
            "1.22GB [00:12, 99.6MB/s]\n"
          ],
          "name": "stdout"
        }
      ]
    },
    {
      "cell_type": "code",
      "metadata": {
        "id": "sHglNanbl60u"
      },
      "source": [
        "import zipfile\n",
        "with zipfile.ZipFile(\"/content/drive/My Drive/Pneumonia_Xrays/pneumonia-kaggle.zip\", 'r') as zip_ref:\n",
        "    zip_ref.extractall(\"/content/drive/My Drive/Pneumonia_Xrays\")\n",
        "    \n",
        "%mv pneumonia-kaggle/* ./\n",
        "%rm pneumonia-kaggle.zip\n",
        "%rmdir pneumonia-kaggle"
      ],
      "execution_count": 6,
      "outputs": []
    },
    {
      "cell_type": "code",
      "metadata": {
        "colab": {
          "base_uri": "https://localhost:8080/"
        },
        "id": "SZSmm3Wlojo8",
        "outputId": "03647e9f-ddcf-4011-e6c4-ee2bff03155e"
      },
      "source": [
        "%ls"
      ],
      "execution_count": 7,
      "outputs": [
        {
          "output_type": "stream",
          "text": [
            "\u001b[0m\u001b[01;34mtest\u001b[0m/  \u001b[01;34mtrain\u001b[0m/\n"
          ],
          "name": "stdout"
        }
      ]
    }
  ]
}